{
 "cells": [
  {
   "cell_type": "code",
   "execution_count": 4,
   "metadata": {},
   "outputs": [],
   "source": [
    "number_list = [1, 1, 2, 2, 3, 3, 4, 1, 2]"
   ]
  },
  {
   "cell_type": "code",
   "execution_count": 9,
   "metadata": {},
   "outputs": [
    {
     "name": "stdout",
     "output_type": "stream",
     "text": [
      "2.11111111111\n",
      "2.0\n",
      "1\n"
     ]
    }
   ],
   "source": [
    "#Using pandas (recommended)\n",
    "import pandas as pd\n",
    "numbers = pd.Series(number_list)\n",
    "Mean = numbers.mean()\n",
    "Median = numbers.median()\n",
    "Mode = numbers.mode()[0]\n",
    "\n",
    "print Mean\n",
    "print Median\n",
    "print Mode"
   ]
  },
  {
   "cell_type": "code",
   "execution_count": 21,
   "metadata": {},
   "outputs": [
    {
     "name": "stdout",
     "output_type": "stream",
     "text": [
      "2.111111111111111\n",
      "2.0\n",
      "1\n"
     ]
    }
   ],
   "source": [
    "#using numpy and scipy\n",
    "import numpy as np\n",
    "Mean = np.mean(number_list)\n",
    "Median = np.median(number_list)\n",
    "\n",
    "from scipy import stats\n",
    "Mode = int(stats.mode(number_list)[0])\n",
    "\n",
    "print Mean\n",
    "print Median\n",
    "print Mode\n"
   ]
  },
  {
   "cell_type": "code",
   "execution_count": 27,
   "metadata": {},
   "outputs": [
    {
     "name": "stdout",
     "output_type": "stream",
     "text": [
      "2.11111111111\n",
      "2\n"
     ]
    }
   ],
   "source": [
    "#using statistics library (not recommended for mode)\n",
    "import statistics\n",
    "from statistics import mean, median, mode\n",
    "Mean = mean(number_list)\n",
    "Median = median(number_list)\n",
    "\n",
    "print Mean\n",
    "print Median\n"
   ]
  },
  {
   "cell_type": "code",
   "execution_count": null,
   "metadata": {},
   "outputs": [],
   "source": []
  }
 ],
 "metadata": {
  "kernelspec": {
   "display_name": "Python 2",
   "language": "python",
   "name": "python2"
  },
  "language_info": {
   "codemirror_mode": {
    "name": "ipython",
    "version": 2
   },
   "file_extension": ".py",
   "mimetype": "text/x-python",
   "name": "python",
   "nbconvert_exporter": "python",
   "pygments_lexer": "ipython2",
   "version": "2.7.16"
  }
 },
 "nbformat": 4,
 "nbformat_minor": 2
}
