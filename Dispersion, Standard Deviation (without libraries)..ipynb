{
 "cells": [
  {
   "cell_type": "code",
   "execution_count": 2,
   "metadata": {},
   "outputs": [],
   "source": [
    "#Import data\n",
    "import math\n",
    "\n",
    "#Create list of values\n",
    "data = [3,2,3,4,2,3,5,2,2,33,3,5,2,2,5,6,62,2,2,3,6,6,2,23,3,2,3]"
   ]
  },
  {
   "cell_type": "code",
   "execution_count": 6,
   "metadata": {},
   "outputs": [
    {
     "name": "stdout",
     "output_type": "stream",
     "text": [
      "Dispersion\n",
      "160\n"
     ]
    }
   ],
   "source": [
    "#Calculate n\n",
    "n = len(data)\n",
    "\n",
    "#Calculate the mean\n",
    "mean = sum(data)/n\n",
    "\n",
    "#create a list of all deviations from the mean\n",
    "all_deviations_from_mean_squared = []\n",
    "\n",
    "#for each observation in the data\n",
    "for observation in data:\n",
    "    \n",
    "    #Calculate the deviation from the mean\n",
    "    deviation_from_mean = (observation - mean)\n",
    "    \n",
    "    #Square it\n",
    "    deviation_from_mean_squared = deviation_from_mean**2\n",
    "    \n",
    "    #Add the result to our list\n",
    "    all_deviations_from_mean_squared.append(deviation_from_mean_squared)\n",
    "    \n",
    "#Calc sum of all the squared deviations from our list\n",
    "sum_of_deviations_from_mean_squared = sum(all_deviations_from_mean_squared)\n",
    "    \n",
    "#divide by n\n",
    "variance = sum_of_deviations_from_mean_squared / n\n",
    "\n",
    "print 'Dispersion'\n",
    "print variance"
   ]
  },
  {
   "cell_type": "code",
   "execution_count": 7,
   "metadata": {},
   "outputs": [
    {
     "name": "stdout",
     "output_type": "stream",
     "text": [
      "Standard Deviation\n",
      "12.6491106407\n"
     ]
    }
   ],
   "source": [
    "#Find standard deviation\n",
    "standard_deviation = math.sqrt(variance)\n",
    "\n",
    "print 'Standard Deviation'\n",
    "print standard_deviation"
   ]
  },
  {
   "cell_type": "code",
   "execution_count": null,
   "metadata": {},
   "outputs": [],
   "source": []
  }
 ],
 "metadata": {
  "kernelspec": {
   "display_name": "Python 2",
   "language": "python",
   "name": "python2"
  },
  "language_info": {
   "codemirror_mode": {
    "name": "ipython",
    "version": 2
   },
   "file_extension": ".py",
   "mimetype": "text/x-python",
   "name": "python",
   "nbconvert_exporter": "python",
   "pygments_lexer": "ipython2",
   "version": "2.7.16"
  }
 },
 "nbformat": 4,
 "nbformat_minor": 2
}
