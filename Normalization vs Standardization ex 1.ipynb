{
 "cells": [
  {
   "cell_type": "code",
   "execution_count": 17,
   "metadata": {},
   "outputs": [],
   "source": [
    "#import libraries\n",
    "import pandas as pd\n",
    "import numpy as np\n",
    "\n",
    "#create array\n",
    "arr = np.array([['M', 81.4, 82.2, 44, 6.1, 120000, 'no'],\n",
    "               ['M', 75.2, 86.2, 40, 5.9, 80000, 'no'],\n",
    "               ['F', 80.0, 83.2, 34, 5.4, 210000, 'yes'],\n",
    "               ['F', 85.4, 72.2, 46, 5.6, 50000, 'yes'],\n",
    "               ['M', 68.4, 87.2, 28, 5.11, 70000, 'no']])\n",
    "\n",
    "#create pandas DataFrame\n",
    "df1 = pd.DataFrame(arr)\n",
    "df1.columns = ['gender', 'hsc_p', 'ssc_p', 'age', 'height', 'salary', 'suffer_from_disease']\n",
    "\n",
    "#Convert types\n",
    "df1[['age','salary']] = df1[['age','salary']].astype(int)\n",
    "df1[['hsc_p','ssc_p','height']] = df1[['hsc_p','ssc_p','height']].astype(float) \n",
    "\n",
    "df2 = df1"
   ]
  },
  {
   "cell_type": "code",
   "execution_count": 18,
   "metadata": {},
   "outputs": [
    {
     "data": {
      "text/html": [
       "<div>\n",
       "<style scoped>\n",
       "    .dataframe tbody tr th:only-of-type {\n",
       "        vertical-align: middle;\n",
       "    }\n",
       "\n",
       "    .dataframe tbody tr th {\n",
       "        vertical-align: top;\n",
       "    }\n",
       "\n",
       "    .dataframe thead th {\n",
       "        text-align: right;\n",
       "    }\n",
       "</style>\n",
       "<table border=\"1\" class=\"dataframe\">\n",
       "  <thead>\n",
       "    <tr style=\"text-align: right;\">\n",
       "      <th></th>\n",
       "      <th>gender</th>\n",
       "      <th>hsc_p</th>\n",
       "      <th>ssc_p</th>\n",
       "      <th>age</th>\n",
       "      <th>height</th>\n",
       "      <th>salary</th>\n",
       "      <th>suffer_from_disease</th>\n",
       "    </tr>\n",
       "  </thead>\n",
       "  <tbody>\n",
       "    <tr>\n",
       "      <th>0</th>\n",
       "      <td>M</td>\n",
       "      <td>81.4</td>\n",
       "      <td>82.2</td>\n",
       "      <td>44</td>\n",
       "      <td>6.10</td>\n",
       "      <td>120000</td>\n",
       "      <td>no</td>\n",
       "    </tr>\n",
       "    <tr>\n",
       "      <th>1</th>\n",
       "      <td>M</td>\n",
       "      <td>75.2</td>\n",
       "      <td>86.2</td>\n",
       "      <td>40</td>\n",
       "      <td>5.90</td>\n",
       "      <td>80000</td>\n",
       "      <td>no</td>\n",
       "    </tr>\n",
       "    <tr>\n",
       "      <th>2</th>\n",
       "      <td>F</td>\n",
       "      <td>80.0</td>\n",
       "      <td>83.2</td>\n",
       "      <td>34</td>\n",
       "      <td>5.40</td>\n",
       "      <td>210000</td>\n",
       "      <td>yes</td>\n",
       "    </tr>\n",
       "    <tr>\n",
       "      <th>3</th>\n",
       "      <td>F</td>\n",
       "      <td>85.4</td>\n",
       "      <td>72.2</td>\n",
       "      <td>46</td>\n",
       "      <td>5.60</td>\n",
       "      <td>50000</td>\n",
       "      <td>yes</td>\n",
       "    </tr>\n",
       "    <tr>\n",
       "      <th>4</th>\n",
       "      <td>M</td>\n",
       "      <td>68.4</td>\n",
       "      <td>87.2</td>\n",
       "      <td>28</td>\n",
       "      <td>5.11</td>\n",
       "      <td>70000</td>\n",
       "      <td>no</td>\n",
       "    </tr>\n",
       "  </tbody>\n",
       "</table>\n",
       "</div>"
      ],
      "text/plain": [
       "  gender  hsc_p  ssc_p  age  height  salary suffer_from_disease\n",
       "0      M   81.4   82.2   44    6.10  120000                  no\n",
       "1      M   75.2   86.2   40    5.90   80000                  no\n",
       "2      F   80.0   83.2   34    5.40  210000                 yes\n",
       "3      F   85.4   72.2   46    5.60   50000                 yes\n",
       "4      M   68.4   87.2   28    5.11   70000                  no"
      ]
     },
     "execution_count": 18,
     "metadata": {},
     "output_type": "execute_result"
    }
   ],
   "source": [
    "df1.head()"
   ]
  },
  {
   "cell_type": "code",
   "execution_count": 8,
   "metadata": {},
   "outputs": [
    {
     "name": "stdout",
     "output_type": "stream",
     "text": [
      "NORMALIZATION\n"
     ]
    }
   ],
   "source": [
    "print \"NORMALIZATION\""
   ]
  },
  {
   "cell_type": "code",
   "execution_count": 9,
   "metadata": {},
   "outputs": [],
   "source": [
    "#NORMALIZATION refers to rescaling of the features to a range of [0,1]\n",
    "\n",
    "def normalize(values):\n",
    "    return (values - values.min())/(values.max() - values.min())"
   ]
  },
  {
   "cell_type": "code",
   "execution_count": 10,
   "metadata": {},
   "outputs": [
    {
     "name": "stdout",
     "output_type": "stream",
     "text": [
      "STANDARTIZATION\n"
     ]
    }
   ],
   "source": [
    "print \"STANDARDIZATION\""
   ]
  },
  {
   "cell_type": "code",
   "execution_count": 11,
   "metadata": {},
   "outputs": [],
   "source": [
    "#STANDARDIZATION techique is used to center the feature columns\n",
    "    #at mean with 0 and standard deviation 1\n",
    "\n",
    "def standardize(values):\n",
    "    return (values - values.mean())/values.std()"
   ]
  },
  {
   "cell_type": "code",
   "execution_count": 19,
   "metadata": {},
   "outputs": [
    {
     "name": "stdout",
     "output_type": "stream",
     "text": [
      "MinMaxScaler for NORMALIZATION\n"
     ]
    },
    {
     "data": {
      "text/html": [
       "<div>\n",
       "<style scoped>\n",
       "    .dataframe tbody tr th:only-of-type {\n",
       "        vertical-align: middle;\n",
       "    }\n",
       "\n",
       "    .dataframe tbody tr th {\n",
       "        vertical-align: top;\n",
       "    }\n",
       "\n",
       "    .dataframe thead th {\n",
       "        text-align: right;\n",
       "    }\n",
       "</style>\n",
       "<table border=\"1\" class=\"dataframe\">\n",
       "  <thead>\n",
       "    <tr style=\"text-align: right;\">\n",
       "      <th></th>\n",
       "      <th>gender</th>\n",
       "      <th>hsc_p</th>\n",
       "      <th>ssc_p</th>\n",
       "      <th>age</th>\n",
       "      <th>height</th>\n",
       "      <th>salary</th>\n",
       "      <th>suffer_from_disease</th>\n",
       "    </tr>\n",
       "  </thead>\n",
       "  <tbody>\n",
       "    <tr>\n",
       "      <th>0</th>\n",
       "      <td>M</td>\n",
       "      <td>0.764706</td>\n",
       "      <td>0.666667</td>\n",
       "      <td>0.888889</td>\n",
       "      <td>1.000000</td>\n",
       "      <td>0.4375</td>\n",
       "      <td>no</td>\n",
       "    </tr>\n",
       "    <tr>\n",
       "      <th>1</th>\n",
       "      <td>M</td>\n",
       "      <td>0.400000</td>\n",
       "      <td>0.933333</td>\n",
       "      <td>0.666667</td>\n",
       "      <td>0.797980</td>\n",
       "      <td>0.1875</td>\n",
       "      <td>no</td>\n",
       "    </tr>\n",
       "    <tr>\n",
       "      <th>2</th>\n",
       "      <td>F</td>\n",
       "      <td>0.682353</td>\n",
       "      <td>0.733333</td>\n",
       "      <td>0.333333</td>\n",
       "      <td>0.292929</td>\n",
       "      <td>1.0000</td>\n",
       "      <td>yes</td>\n",
       "    </tr>\n",
       "    <tr>\n",
       "      <th>3</th>\n",
       "      <td>F</td>\n",
       "      <td>1.000000</td>\n",
       "      <td>0.000000</td>\n",
       "      <td>1.000000</td>\n",
       "      <td>0.494949</td>\n",
       "      <td>0.0000</td>\n",
       "      <td>yes</td>\n",
       "    </tr>\n",
       "    <tr>\n",
       "      <th>4</th>\n",
       "      <td>M</td>\n",
       "      <td>0.000000</td>\n",
       "      <td>1.000000</td>\n",
       "      <td>0.000000</td>\n",
       "      <td>0.000000</td>\n",
       "      <td>0.1250</td>\n",
       "      <td>no</td>\n",
       "    </tr>\n",
       "  </tbody>\n",
       "</table>\n",
       "</div>"
      ],
      "text/plain": [
       "  gender     hsc_p     ssc_p       age    height  salary suffer_from_disease\n",
       "0      M  0.764706  0.666667  0.888889  1.000000  0.4375                  no\n",
       "1      M  0.400000  0.933333  0.666667  0.797980  0.1875                  no\n",
       "2      F  0.682353  0.733333  0.333333  0.292929  1.0000                 yes\n",
       "3      F  1.000000  0.000000  1.000000  0.494949  0.0000                 yes\n",
       "4      M  0.000000  1.000000  0.000000  0.000000  0.1250                  no"
      ]
     },
     "execution_count": 19,
     "metadata": {},
     "output_type": "execute_result"
    }
   ],
   "source": [
    "print 'MinMaxScaler for NORMALIZATION'\n",
    "from sklearn.preprocessing import MinMaxScaler\n",
    "\n",
    "mmscaler = MinMaxScaler()\n",
    "cols = ['hsc_p', 'ssc_p', 'age', 'height', 'salary']\n",
    "df1[cols] = mmscaler.fit_transform(df1[cols])\n",
    "df1.head()\n"
   ]
  },
  {
   "cell_type": "code",
   "execution_count": 20,
   "metadata": {},
   "outputs": [
    {
     "name": "stdout",
     "output_type": "stream",
     "text": [
      "StandardScaler for STANDARDIZATION\n"
     ]
    },
    {
     "data": {
      "text/html": [
       "<div>\n",
       "<style scoped>\n",
       "    .dataframe tbody tr th:only-of-type {\n",
       "        vertical-align: middle;\n",
       "    }\n",
       "\n",
       "    .dataframe tbody tr th {\n",
       "        vertical-align: top;\n",
       "    }\n",
       "\n",
       "    .dataframe thead th {\n",
       "        text-align: right;\n",
       "    }\n",
       "</style>\n",
       "<table border=\"1\" class=\"dataframe\">\n",
       "  <thead>\n",
       "    <tr style=\"text-align: right;\">\n",
       "      <th></th>\n",
       "      <th>gender</th>\n",
       "      <th>hsc_p</th>\n",
       "      <th>ssc_p</th>\n",
       "      <th>age</th>\n",
       "      <th>height</th>\n",
       "      <th>salary</th>\n",
       "      <th>suffer_from_disease</th>\n",
       "    </tr>\n",
       "  </thead>\n",
       "  <tbody>\n",
       "    <tr>\n",
       "      <th>0</th>\n",
       "      <td>M</td>\n",
       "      <td>0.568894</td>\n",
       "      <td>6.249889e-16</td>\n",
       "      <td>0.845771</td>\n",
       "      <td>1.359976</td>\n",
       "      <td>0.246564</td>\n",
       "      <td>no</td>\n",
       "    </tr>\n",
       "    <tr>\n",
       "      <th>1</th>\n",
       "      <td>M</td>\n",
       "      <td>-0.493498</td>\n",
       "      <td>7.505866e-01</td>\n",
       "      <td>0.241649</td>\n",
       "      <td>0.790948</td>\n",
       "      <td>-0.457905</td>\n",
       "      <td>no</td>\n",
       "    </tr>\n",
       "    <tr>\n",
       "      <th>2</th>\n",
       "      <td>F</td>\n",
       "      <td>0.328999</td>\n",
       "      <td>1.876467e-01</td>\n",
       "      <td>-0.664534</td>\n",
       "      <td>-0.631620</td>\n",
       "      <td>1.831622</td>\n",
       "      <td>yes</td>\n",
       "    </tr>\n",
       "    <tr>\n",
       "      <th>3</th>\n",
       "      <td>F</td>\n",
       "      <td>1.254308</td>\n",
       "      <td>-1.876467e+00</td>\n",
       "      <td>1.147832</td>\n",
       "      <td>-0.062593</td>\n",
       "      <td>-0.986258</td>\n",
       "      <td>yes</td>\n",
       "    </tr>\n",
       "    <tr>\n",
       "      <th>4</th>\n",
       "      <td>M</td>\n",
       "      <td>-1.658702</td>\n",
       "      <td>9.382333e-01</td>\n",
       "      <td>-1.570717</td>\n",
       "      <td>-1.456710</td>\n",
       "      <td>-0.634023</td>\n",
       "      <td>no</td>\n",
       "    </tr>\n",
       "  </tbody>\n",
       "</table>\n",
       "</div>"
      ],
      "text/plain": [
       "  gender     hsc_p         ssc_p       age    height    salary  \\\n",
       "0      M  0.568894  6.249889e-16  0.845771  1.359976  0.246564   \n",
       "1      M -0.493498  7.505866e-01  0.241649  0.790948 -0.457905   \n",
       "2      F  0.328999  1.876467e-01 -0.664534 -0.631620  1.831622   \n",
       "3      F  1.254308 -1.876467e+00  1.147832 -0.062593 -0.986258   \n",
       "4      M -1.658702  9.382333e-01 -1.570717 -1.456710 -0.634023   \n",
       "\n",
       "  suffer_from_disease  \n",
       "0                  no  \n",
       "1                  no  \n",
       "2                 yes  \n",
       "3                 yes  \n",
       "4                  no  "
      ]
     },
     "execution_count": 20,
     "metadata": {},
     "output_type": "execute_result"
    }
   ],
   "source": [
    "print 'StandardScaler for STANDARDIZATION'\n",
    "from sklearn.preprocessing import StandardScaler\n",
    "\n",
    "sc = StandardScaler()\n",
    "cols = ['hsc_p', 'ssc_p', 'age', 'height', 'salary']\n",
    "df2[cols] = sc.fit_transform(df2[cols])\n",
    "df2.head()"
   ]
  },
  {
   "cell_type": "code",
   "execution_count": null,
   "metadata": {},
   "outputs": [],
   "source": []
  }
 ],
 "metadata": {
  "kernelspec": {
   "display_name": "Python 2",
   "language": "python",
   "name": "python2"
  },
  "language_info": {
   "codemirror_mode": {
    "name": "ipython",
    "version": 2
   },
   "file_extension": ".py",
   "mimetype": "text/x-python",
   "name": "python",
   "nbconvert_exporter": "python",
   "pygments_lexer": "ipython2",
   "version": "2.7.16"
  }
 },
 "nbformat": 4,
 "nbformat_minor": 2
}
